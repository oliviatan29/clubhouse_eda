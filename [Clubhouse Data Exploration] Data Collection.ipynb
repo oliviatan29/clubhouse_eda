{
 "cells": [
  {
   "cell_type": "markdown",
   "metadata": {},
   "source": [
    "# Set up Web Driver"
   ]
  },
  {
   "cell_type": "code",
   "execution_count": 49,
   "metadata": {},
   "outputs": [],
   "source": [
    "from selenium import webdriver\n",
    "from webdriver_manager.chrome import ChromeDriverManager"
   ]
  },
  {
   "cell_type": "code",
   "execution_count": 50,
   "metadata": {},
   "outputs": [],
   "source": [
    "wd = webdriver.Chrome(\"/opt/anaconda3/chromedriver-Darwin\")\n",
    "wd.get(\"https://clubhub.site\")"
   ]
  },
  {
   "cell_type": "markdown",
   "metadata": {},
   "source": [
    "# Get Live Room Information"
   ]
  },
  {
   "cell_type": "code",
   "execution_count": 51,
   "metadata": {},
   "outputs": [],
   "source": [
    "from datetime import datetime\n",
    "import time\n",
    "import re\n",
    "import pandas as pd "
   ]
  },
  {
   "cell_type": "code",
   "execution_count": 44,
   "metadata": {},
   "outputs": [
    {
     "data": {
      "text/plain": [
       "78"
      ]
     },
     "execution_count": 44,
     "metadata": {},
     "output_type": "execute_result"
    }
   ],
   "source": [
    "cnt_rooms_raw = wd.find_element_by_xpath(\"\"\"//*[@id=\"app\"]/div[1]/main/div/div[2]/div/h3/span\"\"\").text\n",
    "\n",
    "cnt_rooms = int(re.search(r'\\d+', cnt_rooms_raw).group())\n",
    "cnt_rooms"
   ]
  },
  {
   "cell_type": "code",
   "execution_count": 45,
   "metadata": {},
   "outputs": [],
   "source": [
    "### UTC TIME\n",
    "capture_time = datetime.now().strftime(\"%d/%m/%Y %H:%M:%S\")"
   ]
  },
  {
   "cell_type": "code",
   "execution_count": 46,
   "metadata": {},
   "outputs": [],
   "source": [
    "all_rooms = []\n",
    "for x in range(cnt_rooms):\n",
    "    xpath = \"\"\"//*[@id=\"app\"]/div[1]/main/div/div[3]/a[\"\"\" + str(x+1) + \"]\" # simplified\n",
    "    if len(wd.find_element_by_xpath(xpath).text.split(\"\\n\")) == 6:\n",
    "        room_name = wd.find_element_by_xpath(xpath).text.split(\"\\n\")[0]\n",
    "        club_name = re.sub('from (.*?)', '', wd.find_element_by_xpath(xpath).text.split(\"\\n\")[1])\n",
    "        speaker_cnt = re.sub('💬 (.*?)', '', wd.find_element_by_xpath(xpath).text.split(\"\\n\")[3])\n",
    "        joiner_cnt = re.sub('👥 (.*?)', '', wd.find_element_by_xpath(xpath).text.split(\"\\n\")[4])\n",
    "        duration = re.sub('🕒 (.*?)', '', wd.find_element_by_xpath(xpath).text.split(\"\\n\")[5])\n",
    "    elif len(wd.find_element_by_xpath(xpath).text.split(\"\\n\")) == 5:\n",
    "        room_name = wd.find_element_by_xpath(xpath).text.split(\"\\n\")[0]\n",
    "        club_name = re.sub('from (.*?)', '', wd.find_element_by_xpath(xpath).text.split(\"\\n\")[1])\n",
    "        speaker_cnt = re.sub('💬 (.*?)', '', wd.find_element_by_xpath(xpath).text.split(\"\\n\")[2])\n",
    "        joiner_cnt = re.sub('👥 (.*?)', '', wd.find_element_by_xpath(xpath).text.split(\"\\n\")[3])\n",
    "        duration = re.sub('🕒 (.*?)', '', wd.find_element_by_xpath(xpath).text.split(\"\\n\")[4])\n",
    "    elif len(wd.find_element_by_xpath(xpath).text.split(\"\\n\")) == 4:\n",
    "        room_name = wd.find_element_by_xpath(xpath).text.split(\"\\n\")[0]\n",
    "        club_name = \"\"\n",
    "        speaker_cnt = re.sub('💬 (.*?)', '', wd.find_element_by_xpath(xpath).text.split(\"\\n\")[1])\n",
    "        joiner_cnt = re.sub('👥 (.*?)', '', wd.find_element_by_xpath(xpath).text.split(\"\\n\")[2])\n",
    "        duration = re.sub('🕒 (.*?)', '', wd.find_element_by_xpath(xpath).text.split(\"\\n\")[3])\n",
    "    room_details = {\n",
    "        'capture_time' : capture_time,\n",
    "        'room_name' : room_name,\n",
    "        'club_name' : club_name,\n",
    "        'speaker_cnt' : speaker_cnt,\n",
    "        'joiner_cnt' : joiner_cnt,\n",
    "        'duration' : duration\n",
    "    }\n",
    "    all_rooms.append(room_details)"
   ]
  },
  {
   "cell_type": "code",
   "execution_count": 47,
   "metadata": {},
   "outputs": [
    {
     "data": {
      "text/html": [
       "<div>\n",
       "<style scoped>\n",
       "    .dataframe tbody tr th:only-of-type {\n",
       "        vertical-align: middle;\n",
       "    }\n",
       "\n",
       "    .dataframe tbody tr th {\n",
       "        vertical-align: top;\n",
       "    }\n",
       "\n",
       "    .dataframe thead th {\n",
       "        text-align: right;\n",
       "    }\n",
       "</style>\n",
       "<table border=\"1\" class=\"dataframe\">\n",
       "  <thead>\n",
       "    <tr style=\"text-align: right;\">\n",
       "      <th></th>\n",
       "      <th>capture_time</th>\n",
       "      <th>room_name</th>\n",
       "      <th>club_name</th>\n",
       "      <th>speaker_cnt</th>\n",
       "      <th>joiner_cnt</th>\n",
       "      <th>duration</th>\n",
       "    </tr>\n",
       "  </thead>\n",
       "  <tbody>\n",
       "    <tr>\n",
       "      <th>0</th>\n",
       "      <td>29/04/2021 07:00:43</td>\n",
       "      <td>ROLL TIDE to the NFL</td>\n",
       "      <td>NFL 🏠</td>\n",
       "      <td>6</td>\n",
       "      <td>925</td>\n",
       "      <td>00:35:08</td>\n",
       "    </tr>\n",
       "    <tr>\n",
       "      <th>1</th>\n",
       "      <td>29/04/2021 07:00:43</td>\n",
       "      <td>JIM KWIK &amp; Natasha Grano 🧠⚡️Become LIMITLESS</td>\n",
       "      <td>TALK CLUB 🏠</td>\n",
       "      <td>41</td>\n",
       "      <td>599</td>\n",
       "      <td>02:01:14</td>\n",
       "    </tr>\n",
       "    <tr>\n",
       "      <th>2</th>\n",
       "      <td>29/04/2021 07:00:43</td>\n",
       "      <td>Imogen Heap x Endlesss | Genesis NFT Drop LIVE!</td>\n",
       "      <td>🤓TALK NERDY TO ME🦾🚀🩺🕹♻️🧬🎞🪐 🏠</td>\n",
       "      <td>25</td>\n",
       "      <td>543</td>\n",
       "      <td>02:00:43</td>\n",
       "    </tr>\n",
       "    <tr>\n",
       "      <th>3</th>\n",
       "      <td>29/04/2021 07:00:43</td>\n",
       "      <td>❤️DATING GAME + SHOOT UR SHOT w/ the Sexiest S...</td>\n",
       "      <td>SINGLE IN THE CITY 🏠</td>\n",
       "      <td>87</td>\n",
       "      <td>347</td>\n",
       "      <td>20:56:09</td>\n",
       "    </tr>\n",
       "    <tr>\n",
       "      <th>4</th>\n",
       "      <td>29/04/2021 07:00:43</td>\n",
       "      <td>Atlanta is the Best Show Out PERIOD!!!</td>\n",
       "      <td>COMEDY CLUB 🏠</td>\n",
       "      <td>41</td>\n",
       "      <td>253</td>\n",
       "      <td>01:49:45</td>\n",
       "    </tr>\n",
       "    <tr>\n",
       "      <th>...</th>\n",
       "      <td>...</td>\n",
       "      <td>...</td>\n",
       "      <td>...</td>\n",
       "      <td>...</td>\n",
       "      <td>...</td>\n",
       "      <td>...</td>\n",
       "    </tr>\n",
       "    <tr>\n",
       "      <th>73</th>\n",
       "      <td>29/04/2021 07:00:43</td>\n",
       "      <td>🔥🎶Hump Day Vibes 🎶🔥</td>\n",
       "      <td>THE HOUSE RADIO 🏠</td>\n",
       "      <td>2</td>\n",
       "      <td>14</td>\n",
       "      <td>02:34:42</td>\n",
       "    </tr>\n",
       "    <tr>\n",
       "      <th>74</th>\n",
       "      <td>29/04/2021 07:00:43</td>\n",
       "      <td>NASCAR Talk: Talladega/Kansas</td>\n",
       "      <td>NASCAR TALK.  🏠</td>\n",
       "      <td>12</td>\n",
       "      <td>13</td>\n",
       "      <td>00:25:53</td>\n",
       "    </tr>\n",
       "    <tr>\n",
       "      <th>75</th>\n",
       "      <td>29/04/2021 07:00:43</td>\n",
       "      <td>Working 😩</td>\n",
       "      <td>SADBOIS R US 🏠</td>\n",
       "      <td>12</td>\n",
       "      <td>13</td>\n",
       "      <td>04:57:06</td>\n",
       "    </tr>\n",
       "    <tr>\n",
       "      <th>76</th>\n",
       "      <td>29/04/2021 07:00:43</td>\n",
       "      <td>Public Speaking Tips from TEDx Speakers + Coac...</td>\n",
       "      <td>BEAUTY GURU’S CONNECT 🏠</td>\n",
       "      <td>2</td>\n",
       "      <td>11</td>\n",
       "      <td>00:02:50</td>\n",
       "    </tr>\n",
       "    <tr>\n",
       "      <th>77</th>\n",
       "      <td>29/04/2021 07:00:43</td>\n",
       "      <td>Elon Musk is “The Dogefather”</td>\n",
       "      <td>BENEVOLENCE 🏠</td>\n",
       "      <td>4</td>\n",
       "      <td>11</td>\n",
       "      <td>00:27:27</td>\n",
       "    </tr>\n",
       "  </tbody>\n",
       "</table>\n",
       "<p>78 rows × 6 columns</p>\n",
       "</div>"
      ],
      "text/plain": [
       "           capture_time                                          room_name  \\\n",
       "0   29/04/2021 07:00:43                               ROLL TIDE to the NFL   \n",
       "1   29/04/2021 07:00:43       JIM KWIK & Natasha Grano 🧠⚡️Become LIMITLESS   \n",
       "2   29/04/2021 07:00:43    Imogen Heap x Endlesss | Genesis NFT Drop LIVE!   \n",
       "3   29/04/2021 07:00:43  ❤️DATING GAME + SHOOT UR SHOT w/ the Sexiest S...   \n",
       "4   29/04/2021 07:00:43             Atlanta is the Best Show Out PERIOD!!!   \n",
       "..                  ...                                                ...   \n",
       "73  29/04/2021 07:00:43                                🔥🎶Hump Day Vibes 🎶🔥   \n",
       "74  29/04/2021 07:00:43                      NASCAR Talk: Talladega/Kansas   \n",
       "75  29/04/2021 07:00:43                                          Working 😩   \n",
       "76  29/04/2021 07:00:43  Public Speaking Tips from TEDx Speakers + Coac...   \n",
       "77  29/04/2021 07:00:43                      Elon Musk is “The Dogefather”   \n",
       "\n",
       "                       club_name speaker_cnt joiner_cnt  duration  \n",
       "0                          NFL 🏠           6        925  00:35:08  \n",
       "1                    TALK CLUB 🏠          41        599  02:01:14  \n",
       "2   🤓TALK NERDY TO ME🦾🚀🩺🕹♻️🧬🎞🪐 🏠          25        543  02:00:43  \n",
       "3           SINGLE IN THE CITY 🏠          87        347  20:56:09  \n",
       "4                  COMEDY CLUB 🏠          41        253  01:49:45  \n",
       "..                           ...         ...        ...       ...  \n",
       "73             THE HOUSE RADIO 🏠           2         14  02:34:42  \n",
       "74               NASCAR TALK.  🏠          12         13  00:25:53  \n",
       "75                SADBOIS R US 🏠          12         13  04:57:06  \n",
       "76       BEAUTY GURU’S CONNECT 🏠           2         11  00:02:50  \n",
       "77                 BENEVOLENCE 🏠           4         11  00:27:27  \n",
       "\n",
       "[78 rows x 6 columns]"
      ]
     },
     "execution_count": 47,
     "metadata": {},
     "output_type": "execute_result"
    }
   ],
   "source": [
    "room_df = pd.DataFrame(all_rooms)\n",
    "room_df"
   ]
  },
  {
   "cell_type": "code",
   "execution_count": 48,
   "metadata": {},
   "outputs": [],
   "source": [
    "room_df.to_csv('Downloads/clubhouse_'+str(datetime.now())+'.csv')"
   ]
  },
  {
   "cell_type": "markdown",
   "metadata": {},
   "source": [
    "# Set up crawling"
   ]
  },
  {
   "cell_type": "code",
   "execution_count": 85,
   "metadata": {},
   "outputs": [],
   "source": [
    "def get_room_details(url):\n",
    "    wd = webdriver.Chrome(\"/opt/anaconda3/chromedriver-Darwin\")\n",
    "    wd.get(url)\n",
    "    time.sleep(15)\n",
    "    \n",
    "    cnt_rooms_raw = wd.find_element_by_xpath(\"\"\"//*[@id=\"app\"]/div[1]/main/div/div[2]/div/h3/span\"\"\").text\n",
    "    cnt_rooms = int(re.search(r'\\d+', cnt_rooms_raw).group())\n",
    "    \n",
    "    capture_time = datetime.now().strftime(\"%d/%m/%Y %H:%M:%S\")\n",
    "    \n",
    "    all_rooms = []\n",
    "    for x in range(cnt_rooms):\n",
    "        xpath = \"\"\"//*[@id=\"app\"]/div[1]/main/div/div[3]/a[\"\"\" + str(x+1) + \"]\" # simplified\n",
    "        if len(wd.find_element_by_xpath(xpath).text.split(\"\\n\")) == 6:\n",
    "            room_name = wd.find_element_by_xpath(xpath).text.split(\"\\n\")[0]\n",
    "            club_name = re.sub('from (.*?)', '', wd.find_element_by_xpath(xpath).text.split(\"\\n\")[1])\n",
    "            speaker_cnt = re.sub('💬 (.*?)', '', wd.find_element_by_xpath(xpath).text.split(\"\\n\")[3])\n",
    "            joiner_cnt = re.sub('👥 (.*?)', '', wd.find_element_by_xpath(xpath).text.split(\"\\n\")[4])\n",
    "            duration = re.sub('🕒 (.*?)', '', wd.find_element_by_xpath(xpath).text.split(\"\\n\")[5])\n",
    "        elif len(wd.find_element_by_xpath(xpath).text.split(\"\\n\")) == 5:\n",
    "            room_name = wd.find_element_by_xpath(xpath).text.split(\"\\n\")[0]\n",
    "            club_name = re.sub('from (.*?)', '', wd.find_element_by_xpath(xpath).text.split(\"\\n\")[1])\n",
    "            speaker_cnt = re.sub('💬 (.*?)', '', wd.find_element_by_xpath(xpath).text.split(\"\\n\")[2])\n",
    "            joiner_cnt = re.sub('👥 (.*?)', '', wd.find_element_by_xpath(xpath).text.split(\"\\n\")[3])\n",
    "            duration = re.sub('🕒 (.*?)', '', wd.find_element_by_xpath(xpath).text.split(\"\\n\")[4])\n",
    "        elif len(wd.find_element_by_xpath(xpath).text.split(\"\\n\")) == 4:\n",
    "            room_name = wd.find_element_by_xpath(xpath).text.split(\"\\n\")[0]\n",
    "            club_name = \"\"\n",
    "            speaker_cnt = re.sub('💬 (.*?)', '', wd.find_element_by_xpath(xpath).text.split(\"\\n\")[1])\n",
    "            joiner_cnt = re.sub('👥 (.*?)', '', wd.find_element_by_xpath(xpath).text.split(\"\\n\")[2])\n",
    "            duration = re.sub('🕒 (.*?)', '', wd.find_element_by_xpath(xpath).text.split(\"\\n\")[3])\n",
    "        room_details = {\n",
    "            'capture_time' : capture_time,\n",
    "            'room_name' : room_name,\n",
    "            'club_name' : club_name,\n",
    "            'speaker_cnt' : speaker_cnt,\n",
    "            'joiner_cnt' : joiner_cnt,\n",
    "            'duration' : duration\n",
    "        }\n",
    "        all_rooms.append(room_details)\n",
    "    room_df = pd.DataFrame(all_rooms)\n",
    "    room_df.to_csv('Downloads/clubhouse_'+str(datetime.now())+'.csv')\n",
    "    print(str(datetime.now()))\n",
    "    \n",
    "    time.sleep(1800) #sleep for 30mins\n",
    "    return room_df"
   ]
  },
  {
   "cell_type": "code",
   "execution_count": 91,
   "metadata": {},
   "outputs": [
    {
     "data": {
      "text/plain": [
       "1619983024.371916"
      ]
     },
     "execution_count": 91,
     "metadata": {},
     "output_type": "execute_result"
    }
   ],
   "source": [
    "timeout = time.time() + 60*60*8   # 8 hour from now\n",
    "timeout"
   ]
  },
  {
   "cell_type": "code",
   "execution_count": 92,
   "metadata": {},
   "outputs": [
    {
     "name": "stdout",
     "output_type": "stream",
     "text": [
      "2021-05-02 19:17:31.865395\n",
      "2021-05-02 19:47:56.042674\n",
      "2021-05-02 20:18:21.014160\n",
      "2021-05-02 20:48:45.847539\n",
      "2021-05-02 21:19:11.862440\n",
      "2021-05-02 21:49:36.838868\n",
      "2021-05-02 22:20:02.883554\n",
      "2021-05-02 22:50:30.048720\n",
      "2021-05-02 23:20:56.050555\n",
      "2021-05-02 23:51:21.339167\n"
     ]
    },
    {
     "ename": "KeyboardInterrupt",
     "evalue": "",
     "output_type": "error",
     "traceback": [
      "\u001b[0;31m---------------------------------------------------------------------------\u001b[0m",
      "\u001b[0;31mKeyboardInterrupt\u001b[0m                         Traceback (most recent call last)",
      "\u001b[0;32m<ipython-input-92-53b20cad0899>\u001b[0m in \u001b[0;36m<module>\u001b[0;34m\u001b[0m\n\u001b[1;32m      4\u001b[0m         \u001b[0;32mbreak\u001b[0m\u001b[0;34m\u001b[0m\u001b[0;34m\u001b[0m\u001b[0m\n\u001b[1;32m      5\u001b[0m     \u001b[0;32melse\u001b[0m\u001b[0;34m:\u001b[0m\u001b[0;34m\u001b[0m\u001b[0;34m\u001b[0m\u001b[0m\n\u001b[0;32m----> 6\u001b[0;31m         \u001b[0mget_room_details\u001b[0m\u001b[0;34m(\u001b[0m\u001b[0;34m'https://clubhub.site'\u001b[0m\u001b[0;34m)\u001b[0m\u001b[0;34m\u001b[0m\u001b[0;34m\u001b[0m\u001b[0m\n\u001b[0m\u001b[1;32m      7\u001b[0m     \u001b[0mtest\u001b[0m \u001b[0;34m=\u001b[0m \u001b[0mtest\u001b[0m \u001b[0;34m-\u001b[0m \u001b[0;36m1\u001b[0m\u001b[0;34m\u001b[0m\u001b[0;34m\u001b[0m\u001b[0m\n",
      "\u001b[0;32m<ipython-input-85-20a33477c48b>\u001b[0m in \u001b[0;36mget_room_details\u001b[0;34m(url)\u001b[0m\n\u001b[1;32m     43\u001b[0m     \u001b[0mprint\u001b[0m\u001b[0;34m(\u001b[0m\u001b[0mstr\u001b[0m\u001b[0;34m(\u001b[0m\u001b[0mdatetime\u001b[0m\u001b[0;34m.\u001b[0m\u001b[0mnow\u001b[0m\u001b[0;34m(\u001b[0m\u001b[0;34m)\u001b[0m\u001b[0;34m)\u001b[0m\u001b[0;34m)\u001b[0m\u001b[0;34m\u001b[0m\u001b[0;34m\u001b[0m\u001b[0m\n\u001b[1;32m     44\u001b[0m \u001b[0;34m\u001b[0m\u001b[0m\n\u001b[0;32m---> 45\u001b[0;31m     \u001b[0mtime\u001b[0m\u001b[0;34m.\u001b[0m\u001b[0msleep\u001b[0m\u001b[0;34m(\u001b[0m\u001b[0;36m1800\u001b[0m\u001b[0;34m)\u001b[0m \u001b[0;31m#sleep for 30mins\u001b[0m\u001b[0;34m\u001b[0m\u001b[0;34m\u001b[0m\u001b[0m\n\u001b[0m\u001b[1;32m     46\u001b[0m     \u001b[0;32mreturn\u001b[0m \u001b[0mroom_df\u001b[0m\u001b[0;34m\u001b[0m\u001b[0;34m\u001b[0m\u001b[0m\n",
      "\u001b[0;31mKeyboardInterrupt\u001b[0m: "
     ]
    }
   ],
   "source": [
    "while True:\n",
    "    test = 0\n",
    "    if test == 5 or time.time() > timeout:\n",
    "        break\n",
    "    else:\n",
    "        get_room_details('https://clubhub.site')\n",
    "    test = test - 1"
   ]
  },
  {
   "cell_type": "code",
   "execution_count": null,
   "metadata": {},
   "outputs": [],
   "source": []
  }
 ],
 "metadata": {
  "kernelspec": {
   "display_name": "Python 3",
   "language": "python",
   "name": "python3"
  },
  "language_info": {
   "codemirror_mode": {
    "name": "ipython",
    "version": 3
   },
   "file_extension": ".py",
   "mimetype": "text/x-python",
   "name": "python",
   "nbconvert_exporter": "python",
   "pygments_lexer": "ipython3",
   "version": "3.8.5"
  }
 },
 "nbformat": 4,
 "nbformat_minor": 4
}
